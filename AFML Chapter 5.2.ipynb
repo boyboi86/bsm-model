{
 "cells": [
  {
   "cell_type": "code",
   "execution_count": 1,
   "metadata": {},
   "outputs": [
    {
     "name": "stderr",
     "output_type": "stream",
     "text": [
      "C:\\Users\\Wei_X\\Anaconda3\\lib\\site-packages\\statsmodels\\tools\\_testing.py:19: FutureWarning: pandas.util.testing is deprecated. Use the functions in the public API at pandas.testing instead.\n",
      "  import pandas.util.testing as tm\n"
     ]
    }
   ],
   "source": [
    "import numpy as np\n",
    "from numba import njit\n",
    "import timeit\n",
    "import pandas as pd\n",
    "import matplotlib.pyplot as plt\n",
    "\n",
    "%matplotlib inline\n",
    "\n",
    "from scipy.stats import jarque_bera\n",
    "from scipy.stats import linregress\n",
    "from scipy.optimize import curve_fit \n",
    "\n",
    "from statsmodels.tsa.stattools import adfuller\n",
    "from statsmodels.tsa.stattools import coint\n",
    "\n",
    "p = print\n",
    "\n",
    "#pls take note of version\n",
    "#numba 0.49.1 #https://github.com/numba/numba/issues/4255\n",
    "#numpy 1.17.3\n",
    "#pandas 1.0.3\n",
    "#sklearn 0.21.3\n",
    "\n",
    "dollar = pd.read_csv('./Sample_data/dollar_bars.txt', \n",
    "                 sep=',', \n",
    "                 header=0, \n",
    "                 parse_dates = True, \n",
    "                 index_col=['date_time'])\n",
    "\n",
    "# For most part of the func we only use 'close'\n",
    "\n",
    "close = dollar['close'].to_frame()"
   ]
  },
  {
   "cell_type": "code",
   "execution_count": 2,
   "metadata": {},
   "outputs": [],
   "source": [
    "@njit\n",
    "def getWeights(d, size):\n",
    "    w=[1.]\n",
    "    for k in np.arange(1,size):\n",
    "        w_ = -w[-1]/k*(d-k+1)\n",
    "        w.append(w_)\n",
    "    w=np.array(w[::-1]).reshape(-1,1)\n",
    "    return w\n",
    "\n",
    "def fracDiff(series, d, thres=.01):\n",
    "    w=getWeights(d, series.shape[0])\n",
    "    w_=np.cumsum(abs(w))\n",
    "    w_/=w_[-1]\n",
    "    skip = w_[w_>thres].shape[0]\n",
    "    df={}\n",
    "    for name in series.columns:\n",
    "        seriesF,df_=series[[name]].fillna(method='ffill').dropna(),pd.Series(index=series.index, dtype=float)\n",
    "        for iloc in range(skip,seriesF.shape[0]):\n",
    "            loc=seriesF.index[iloc]\n",
    "            if not np.isfinite(series.loc[loc,name]): continue\n",
    "            df_[loc]=np.dot(w[-(iloc+1):,:].T,seriesF.loc[:loc])[0,0]\n",
    "        df[name]=df_.copy(deep=True)\n",
    "    df=pd.concat(df,axis=1)\n",
    "    return df\n",
    "\n",
    "@njit\n",
    "def getWeights_FFD(d, thres):\n",
    "    w,k=[1.],1\n",
    "    while True:\n",
    "        w_ = -w[-1]/k*(d-k+1)\n",
    "        if abs(w_) < thres:\n",
    "            break\n",
    "        w.append(w_); k+=1\n",
    "    return np.array(w[::-1]).reshape(-1,1)\n",
    "\n",
    "# need to refactor to optimze if not will take forever if threshold too low\n",
    "def fracDiff_FFD(series, d, thres=1e-2):\n",
    "    w, df = getWeights_FFD(d, thres), {}\n",
    "    width = len(w)-1\n",
    "    for name in series.columns:\n",
    "        seriesF,df_=series[[name]].fillna(method='ffill').dropna(),pd.Series(index=series.index, dtype=float)\n",
    "        for iloc in range(width, seriesF.shape[0]):\n",
    "            loc0, loc1 = seriesF.index[iloc - width], seriesF.index[iloc]\n",
    "            if not np.isfinite(series.loc[loc1,name]): continue\n",
    "            df_[loc1]=np.dot(w.T,seriesF.loc[loc0:loc1])[0,0]\n",
    "        df[name]=df_.copy(deep=True)\n",
    "    df=pd.concat(df,axis=1)\n",
    "    return df\n",
    "\n",
    "def min_value(data: pd.Series, func, thres = 0.01, pval_threshold: float = 0.05):\n",
    "    d_domain = np.linspace(start = 0, \n",
    "                           stop = 2, \n",
    "                           num=100, \n",
    "                           endpoint=True, \n",
    "                           retstep=False, \n",
    "                           dtype=float)\n",
    "    \n",
    "    for d in d_domain:\n",
    "        df1 = np.log(data).resample('1D').last() # pls note downcast to daily obs\n",
    "        df2 = func(df1, d, thres = thres).dropna()\n",
    "        df2 = adfuller(df2.squeeze(), maxlag=1, regression='c', autolag=None)\n",
    "        try:\n",
    "            if df2[1] <= pval_threshold:\n",
    "                return d\n",
    "        except:\n",
    "            p('Something is wrong! Most likely required d value more than 2!!')"
   ]
  },
  {
   "cell_type": "code",
   "execution_count": 3,
   "metadata": {},
   "outputs": [
    {
     "name": "stdout",
     "output_type": "stream",
     "text": [
      "Min d Value: 0.141\n",
      "ADF pVal: 0.31391 with critical value: 5.0%\n"
     ]
    }
   ],
   "source": [
    "# Take optimal value to pass stationary test\n",
    "# if you are keen.. adfuller can provide full test result.. go to statsmodel API documentation for more details\n",
    "\n",
    "test_val = 0.05\n",
    "mv = min_value(data = close, func = fracDiff_FFD, thres = 0.01, pval_threshold = test_val)\n",
    "adf_pval = adfuller(fracDiff_FFD(close, d=0.141414).dropna().squeeze(), autolag=None)[1]\n",
    "p(\"Min d Value: {0:.3f}\\nADF pVal: {1:.5f} with critical value: {2}%\".format(mv, adf_pval, test_val * 100))"
   ]
  },
  {
   "cell_type": "code",
   "execution_count": 4,
   "metadata": {},
   "outputs": [],
   "source": [
    "ffd0 = fracDiff_FFD(close, d = 0.141)"
   ]
  },
  {
   "cell_type": "code",
   "execution_count": 5,
   "metadata": {},
   "outputs": [
    {
     "data": {
      "text/html": [
       "<div>\n",
       "<style scoped>\n",
       "    .dataframe tbody tr th:only-of-type {\n",
       "        vertical-align: middle;\n",
       "    }\n",
       "\n",
       "    .dataframe tbody tr th {\n",
       "        vertical-align: top;\n",
       "    }\n",
       "\n",
       "    .dataframe thead th {\n",
       "        text-align: right;\n",
       "    }\n",
       "</style>\n",
       "<table border=\"1\" class=\"dataframe\">\n",
       "  <thead>\n",
       "    <tr style=\"text-align: right;\">\n",
       "      <th></th>\n",
       "      <th>close</th>\n",
       "    </tr>\n",
       "  </thead>\n",
       "  <tbody>\n",
       "    <tr>\n",
       "      <th>count</th>\n",
       "      <td>24070.000000</td>\n",
       "    </tr>\n",
       "    <tr>\n",
       "      <th>mean</th>\n",
       "      <td>1360.468647</td>\n",
       "    </tr>\n",
       "    <tr>\n",
       "      <th>std</th>\n",
       "      <td>58.611375</td>\n",
       "    </tr>\n",
       "    <tr>\n",
       "      <th>min</th>\n",
       "      <td>1188.214408</td>\n",
       "    </tr>\n",
       "    <tr>\n",
       "      <th>25%</th>\n",
       "      <td>1329.179470</td>\n",
       "    </tr>\n",
       "    <tr>\n",
       "      <th>50%</th>\n",
       "      <td>1368.439801</td>\n",
       "    </tr>\n",
       "    <tr>\n",
       "      <th>75%</th>\n",
       "      <td>1395.733181</td>\n",
       "    </tr>\n",
       "    <tr>\n",
       "      <th>max</th>\n",
       "      <td>1501.706321</td>\n",
       "    </tr>\n",
       "  </tbody>\n",
       "</table>\n",
       "</div>"
      ],
      "text/plain": [
       "              close\n",
       "count  24070.000000\n",
       "mean    1360.468647\n",
       "std       58.611375\n",
       "min     1188.214408\n",
       "25%     1329.179470\n",
       "50%     1368.439801\n",
       "75%     1395.733181\n",
       "max     1501.706321"
      ]
     },
     "execution_count": 5,
     "metadata": {},
     "output_type": "execute_result"
    }
   ],
   "source": [
    "ffd0.describe() # initial num count 24079 before FFD"
   ]
  },
  {
   "cell_type": "code",
   "execution_count": 6,
   "metadata": {},
   "outputs": [],
   "source": [
    "ffd1 = fracDiff_FFD(ffd0.dropna(), d = -0.141)"
   ]
  },
  {
   "cell_type": "code",
   "execution_count": 7,
   "metadata": {},
   "outputs": [
    {
     "data": {
      "text/html": [
       "<div>\n",
       "<style scoped>\n",
       "    .dataframe tbody tr th:only-of-type {\n",
       "        vertical-align: middle;\n",
       "    }\n",
       "\n",
       "    .dataframe tbody tr th {\n",
       "        vertical-align: top;\n",
       "    }\n",
       "\n",
       "    .dataframe thead th {\n",
       "        text-align: right;\n",
       "    }\n",
       "</style>\n",
       "<table border=\"1\" class=\"dataframe\">\n",
       "  <thead>\n",
       "    <tr style=\"text-align: right;\">\n",
       "      <th></th>\n",
       "      <th>close</th>\n",
       "    </tr>\n",
       "  </thead>\n",
       "  <tbody>\n",
       "    <tr>\n",
       "      <th>count</th>\n",
       "      <td>24047.000000</td>\n",
       "    </tr>\n",
       "    <tr>\n",
       "      <th>mean</th>\n",
       "      <td>2269.267694</td>\n",
       "    </tr>\n",
       "    <tr>\n",
       "      <th>std</th>\n",
       "      <td>97.643211</td>\n",
       "    </tr>\n",
       "    <tr>\n",
       "      <th>min</th>\n",
       "      <td>1989.174243</td>\n",
       "    </tr>\n",
       "    <tr>\n",
       "      <th>25%</th>\n",
       "      <td>2216.626158</td>\n",
       "    </tr>\n",
       "    <tr>\n",
       "      <th>50%</th>\n",
       "      <td>2282.544052</td>\n",
       "    </tr>\n",
       "    <tr>\n",
       "      <th>75%</th>\n",
       "      <td>2327.850473</td>\n",
       "    </tr>\n",
       "    <tr>\n",
       "      <th>max</th>\n",
       "      <td>2500.511353</td>\n",
       "    </tr>\n",
       "  </tbody>\n",
       "</table>\n",
       "</div>"
      ],
      "text/plain": [
       "              close\n",
       "count  24047.000000\n",
       "mean    2269.267694\n",
       "std       97.643211\n",
       "min     1989.174243\n",
       "25%     2216.626158\n",
       "50%     2282.544052\n",
       "75%     2327.850473\n",
       "max     2500.511353"
      ]
     },
     "execution_count": 7,
     "metadata": {},
     "output_type": "execute_result"
    }
   ],
   "source": [
    "ffd1.describe() # after second FFD based on first FFD but with -d value"
   ]
  },
  {
   "cell_type": "markdown",
   "metadata": {},
   "source": [
    "#### Further investgation on negative d value\n",
    "\n",
    "Even without using FFD twice, just by using a single FFD with -d value. It will still produce NaNs"
   ]
  },
  {
   "cell_type": "code",
   "execution_count": 8,
   "metadata": {},
   "outputs": [],
   "source": [
    "ffd2 = fracDiff_FFD(close, d = -0.141)"
   ]
  },
  {
   "cell_type": "code",
   "execution_count": 9,
   "metadata": {},
   "outputs": [
    {
     "data": {
      "text/html": [
       "<div>\n",
       "<style scoped>\n",
       "    .dataframe tbody tr th:only-of-type {\n",
       "        vertical-align: middle;\n",
       "    }\n",
       "\n",
       "    .dataframe tbody tr th {\n",
       "        vertical-align: top;\n",
       "    }\n",
       "\n",
       "    .dataframe thead th {\n",
       "        text-align: right;\n",
       "    }\n",
       "</style>\n",
       "<table border=\"1\" class=\"dataframe\">\n",
       "  <thead>\n",
       "    <tr style=\"text-align: right;\">\n",
       "      <th></th>\n",
       "      <th>close</th>\n",
       "    </tr>\n",
       "  </thead>\n",
       "  <tbody>\n",
       "    <tr>\n",
       "      <th>count</th>\n",
       "      <td>24056.000000</td>\n",
       "    </tr>\n",
       "    <tr>\n",
       "      <th>mean</th>\n",
       "      <td>3437.957669</td>\n",
       "    </tr>\n",
       "    <tr>\n",
       "      <th>std</th>\n",
       "      <td>147.818234</td>\n",
       "    </tr>\n",
       "    <tr>\n",
       "      <th>min</th>\n",
       "      <td>3017.448412</td>\n",
       "    </tr>\n",
       "    <tr>\n",
       "      <th>25%</th>\n",
       "      <td>3358.685714</td>\n",
       "    </tr>\n",
       "    <tr>\n",
       "      <th>50%</th>\n",
       "      <td>3458.046480</td>\n",
       "    </tr>\n",
       "    <tr>\n",
       "      <th>75%</th>\n",
       "      <td>3526.337156</td>\n",
       "    </tr>\n",
       "    <tr>\n",
       "      <th>max</th>\n",
       "      <td>3786.111495</td>\n",
       "    </tr>\n",
       "  </tbody>\n",
       "</table>\n",
       "</div>"
      ],
      "text/plain": [
       "              close\n",
       "count  24056.000000\n",
       "mean    3437.957669\n",
       "std      147.818234\n",
       "min     3017.448412\n",
       "25%     3358.685714\n",
       "50%     3458.046480\n",
       "75%     3526.337156\n",
       "max     3786.111495"
      ]
     },
     "execution_count": 9,
     "metadata": {},
     "output_type": "execute_result"
    }
   ],
   "source": [
    "ffd2.describe()"
   ]
  },
  {
   "cell_type": "markdown",
   "metadata": {},
   "source": [
    "## Infinite observations\n",
    "\n",
    "When we try to get weight for FFD, using positive d value will produce appropriate \"discount\" to observation values.\n",
    "\n",
    "However, using negative d value we will instead get unlimited \"additive\" observation values, since we can never get to hit threshold.\n",
    "\n",
    "In short, convergence will not occur but instead divergence will take place.\n",
    "\n",
    "#### getWeights_FFD function warning\n",
    "\n",
    "The function getWeight_FFD would have cause infinite loop when we use negative d value if we did not put a threshold limit condition."
   ]
  },
  {
   "cell_type": "code",
   "execution_count": 10,
   "metadata": {},
   "outputs": [
    {
     "data": {
      "text/plain": [
       "array([[0.01016333],\n",
       "       [0.01055764],\n",
       "       [0.01098661],\n",
       "       [0.01145519],\n",
       "       [0.01196927],\n",
       "       [0.01253603],\n",
       "       [0.01316425],\n",
       "       [0.01386484],\n",
       "       [0.01465143],\n",
       "       [0.01554144],\n",
       "       [0.01655735],\n",
       "       [0.01772882],\n",
       "       [0.01909576],\n",
       "       [0.02071327],\n",
       "       [0.02265975],\n",
       "       [0.0250507 ],\n",
       "       [0.02806408],\n",
       "       [0.03198967],\n",
       "       [0.03733476],\n",
       "       [0.0450794 ],\n",
       "       [0.0574077 ],\n",
       "       [0.0804405 ],\n",
       "       [0.141     ],\n",
       "       [1.        ]])"
      ]
     },
     "execution_count": 10,
     "metadata": {},
     "output_type": "execute_result"
    }
   ],
   "source": [
    "getWeights_FFD(-0.141, 0.01) # negative value which led to divergence (right to left)"
   ]
  },
  {
   "cell_type": "code",
   "execution_count": 11,
   "metadata": {},
   "outputs": [
    {
     "data": {
      "text/plain": [
       "array([[-0.01050548],\n",
       "       [-0.01203071],\n",
       "       [-0.01403203],\n",
       "       [-0.01676467],\n",
       "       [-0.02070138],\n",
       "       [-0.02682221],\n",
       "       [-0.0375267 ],\n",
       "       [-0.0605595 ],\n",
       "       [-0.141     ],\n",
       "       [ 1.        ]])"
      ]
     },
     "execution_count": 11,
     "metadata": {},
     "output_type": "execute_result"
    }
   ],
   "source": [
    "getWeights_FFD(0.141, 0.01) # positive value for convergence (left to right)"
   ]
  },
  {
   "cell_type": "markdown",
   "metadata": {},
   "source": [
    "#### Exercise 5.5"
   ]
  },
  {
   "cell_type": "code",
   "execution_count": 12,
   "metadata": {},
   "outputs": [
    {
     "data": {
      "text/html": [
       "<div>\n",
       "<style scoped>\n",
       "    .dataframe tbody tr th:only-of-type {\n",
       "        vertical-align: middle;\n",
       "    }\n",
       "\n",
       "    .dataframe tbody tr th {\n",
       "        vertical-align: top;\n",
       "    }\n",
       "\n",
       "    .dataframe thead th {\n",
       "        text-align: right;\n",
       "    }\n",
       "</style>\n",
       "<table border=\"1\" class=\"dataframe\">\n",
       "  <thead>\n",
       "    <tr style=\"text-align: right;\">\n",
       "      <th></th>\n",
       "      <th>close</th>\n",
       "    </tr>\n",
       "    <tr>\n",
       "      <th>date_time</th>\n",
       "      <th></th>\n",
       "    </tr>\n",
       "  </thead>\n",
       "  <tbody>\n",
       "    <tr>\n",
       "      <th>2015-01-01 23:00:23.723</th>\n",
       "      <td>7.628882</td>\n",
       "    </tr>\n",
       "    <tr>\n",
       "      <th>2015-01-02 07:07:35.156</th>\n",
       "      <td>7.632401</td>\n",
       "    </tr>\n",
       "    <tr>\n",
       "      <th>2015-01-02 09:35:57.204</th>\n",
       "      <td>7.630704</td>\n",
       "    </tr>\n",
       "    <tr>\n",
       "      <th>2015-01-02 12:59:42.176</th>\n",
       "      <td>7.630947</td>\n",
       "    </tr>\n",
       "    <tr>\n",
       "      <th>2015-01-02 14:19:33.847</th>\n",
       "      <td>7.632280</td>\n",
       "    </tr>\n",
       "    <tr>\n",
       "      <th>2015-01-02 14:33:39.311</th>\n",
       "      <td>7.632643</td>\n",
       "    </tr>\n",
       "  </tbody>\n",
       "</table>\n",
       "</div>"
      ],
      "text/plain": [
       "                            close\n",
       "date_time                        \n",
       "2015-01-01 23:00:23.723  7.628882\n",
       "2015-01-02 07:07:35.156  7.632401\n",
       "2015-01-02 09:35:57.204  7.630704\n",
       "2015-01-02 12:59:42.176  7.630947\n",
       "2015-01-02 14:19:33.847  7.632280\n",
       "2015-01-02 14:33:39.311  7.632643"
      ]
     },
     "execution_count": 12,
     "metadata": {},
     "output_type": "execute_result"
    }
   ],
   "source": [
    "logp = close.apply(np.log)\n",
    "logp.head(6)"
   ]
  },
  {
   "cell_type": "code",
   "execution_count": 13,
   "metadata": {},
   "outputs": [
    {
     "data": {
      "text/html": [
       "<div>\n",
       "<style scoped>\n",
       "    .dataframe tbody tr th:only-of-type {\n",
       "        vertical-align: middle;\n",
       "    }\n",
       "\n",
       "    .dataframe tbody tr th {\n",
       "        vertical-align: top;\n",
       "    }\n",
       "\n",
       "    .dataframe thead th {\n",
       "        text-align: right;\n",
       "    }\n",
       "</style>\n",
       "<table border=\"1\" class=\"dataframe\">\n",
       "  <thead>\n",
       "    <tr style=\"text-align: right;\">\n",
       "      <th></th>\n",
       "      <th>close</th>\n",
       "    </tr>\n",
       "  </thead>\n",
       "  <tbody>\n",
       "    <tr>\n",
       "      <th>count</th>\n",
       "      <td>24079.000000</td>\n",
       "    </tr>\n",
       "    <tr>\n",
       "      <th>mean</th>\n",
       "      <td>91747.193481</td>\n",
       "    </tr>\n",
       "    <tr>\n",
       "      <th>std</th>\n",
       "      <td>52961.243656</td>\n",
       "    </tr>\n",
       "    <tr>\n",
       "      <th>min</th>\n",
       "      <td>7.628882</td>\n",
       "    </tr>\n",
       "    <tr>\n",
       "      <th>25%</th>\n",
       "      <td>45974.457645</td>\n",
       "    </tr>\n",
       "    <tr>\n",
       "      <th>50%</th>\n",
       "      <td>91742.869713</td>\n",
       "    </tr>\n",
       "    <tr>\n",
       "      <th>75%</th>\n",
       "      <td>137500.145350</td>\n",
       "    </tr>\n",
       "    <tr>\n",
       "      <th>max</th>\n",
       "      <td>183724.410799</td>\n",
       "    </tr>\n",
       "  </tbody>\n",
       "</table>\n",
       "</div>"
      ],
      "text/plain": [
       "               close\n",
       "count   24079.000000\n",
       "mean    91747.193481\n",
       "std     52961.243656\n",
       "min         7.628882\n",
       "25%     45974.457645\n",
       "50%     91742.869713\n",
       "75%    137500.145350\n",
       "max    183724.410799"
      ]
     },
     "execution_count": 13,
     "metadata": {},
     "output_type": "execute_result"
    }
   ],
   "source": [
    "cumsum_logp = logp.cumsum().dropna()\n",
    "cumsum_logp.describe() #initial count 24079 if no NaNs count should be same"
   ]
  },
  {
   "cell_type": "code",
   "execution_count": 14,
   "metadata": {},
   "outputs": [
    {
     "data": {
      "text/html": [
       "<div>\n",
       "<style scoped>\n",
       "    .dataframe tbody tr th:only-of-type {\n",
       "        vertical-align: middle;\n",
       "    }\n",
       "\n",
       "    .dataframe tbody tr th {\n",
       "        vertical-align: top;\n",
       "    }\n",
       "\n",
       "    .dataframe thead th {\n",
       "        text-align: right;\n",
       "    }\n",
       "</style>\n",
       "<table border=\"1\" class=\"dataframe\">\n",
       "  <thead>\n",
       "    <tr style=\"text-align: right;\">\n",
       "      <th></th>\n",
       "      <th>close</th>\n",
       "    </tr>\n",
       "    <tr>\n",
       "      <th>date_time</th>\n",
       "      <th></th>\n",
       "    </tr>\n",
       "  </thead>\n",
       "  <tbody>\n",
       "    <tr>\n",
       "      <th>2015-01-01 23:00:23.723</th>\n",
       "      <td>7.628882</td>\n",
       "    </tr>\n",
       "    <tr>\n",
       "      <th>2015-01-02 07:07:35.156</th>\n",
       "      <td>15.261283</td>\n",
       "    </tr>\n",
       "    <tr>\n",
       "      <th>2015-01-02 09:35:57.204</th>\n",
       "      <td>22.891987</td>\n",
       "    </tr>\n",
       "    <tr>\n",
       "      <th>2015-01-02 12:59:42.176</th>\n",
       "      <td>30.522934</td>\n",
       "    </tr>\n",
       "    <tr>\n",
       "      <th>2015-01-02 14:19:33.847</th>\n",
       "      <td>38.155214</td>\n",
       "    </tr>\n",
       "    <tr>\n",
       "      <th>2015-01-02 14:33:39.311</th>\n",
       "      <td>45.787857</td>\n",
       "    </tr>\n",
       "  </tbody>\n",
       "</table>\n",
       "</div>"
      ],
      "text/plain": [
       "                             close\n",
       "date_time                         \n",
       "2015-01-01 23:00:23.723   7.628882\n",
       "2015-01-02 07:07:35.156  15.261283\n",
       "2015-01-02 09:35:57.204  22.891987\n",
       "2015-01-02 12:59:42.176  30.522934\n",
       "2015-01-02 14:19:33.847  38.155214\n",
       "2015-01-02 14:33:39.311  45.787857"
      ]
     },
     "execution_count": 14,
     "metadata": {},
     "output_type": "execute_result"
    }
   ],
   "source": [
    "cumsum_logp.head(6)"
   ]
  },
  {
   "cell_type": "code",
   "execution_count": 15,
   "metadata": {},
   "outputs": [
    {
     "data": {
      "text/plain": [
       "<matplotlib.axes._subplots.AxesSubplot at 0x2388004c588>"
      ]
     },
     "execution_count": 15,
     "metadata": {},
     "output_type": "execute_result"
    },
    {
     "data": {
      "image/png": "[encoded data removed]",
      "text/plain": [
       "<Figure size 720x576 with 1 Axes>"
      ]
     },
     "metadata": {
      "needs_background": "light"
     },
     "output_type": "display_data"
    }
   ],
   "source": [
    "cumsum_logp.plot(figsize=(10,8)) # literally a straight line"
   ]
  },
  {
   "cell_type": "markdown",
   "metadata": {},
   "source": [
    "**Note**\n",
    "\n",
    "Cumumlative sum prices use threshold 1.e-5.\n",
    "\n",
    "Non-cumumlative prices use threshold 1.e-2.\n",
    "\n",
    "Otherwise threshold is too low.\n",
    "\n",
    "Log prices in theory may improve convergence, you may wish to check max likelihood estimation or AIC score."
   ]
  },
  {
   "cell_type": "code",
   "execution_count": 16,
   "metadata": {},
   "outputs": [],
   "source": [
    "# this is a sample func on per tick, DO NOT use it otherwise it will take forever if per tick.\n",
    "\n",
    "def minVal_cs(data: pd.Series, thres: float = 1e-5, pval_threshold: float = 0.05, d_range: list = [1.9, 2.0] ):\n",
    "    d_domain = np.linspace(start = d_range[0], \n",
    "                           stop = d_range[1], \n",
    "                           num=100000, \n",
    "                           endpoint=True, \n",
    "                           retstep=False, \n",
    "                           dtype=float)\n",
    "    \n",
    "    for d in d_domain:\n",
    "        try:\n",
    "            df1 = np.log(data).cumsum() #.resample('1h').last()# pls note downcast to daily obs\n",
    "            df1.dropna(inplace=True)\n",
    "            df2 = fracDiff_FFD(df1, d, thres = thres).dropna()\n",
    "            df2 = adfuller(df2.squeeze(), maxlag = 1,regression='c', autolag=None)\n",
    "            if df2[1] <= pval_threshold:\n",
    "                return d\n",
    "        except:\n",
    "            p('Something is wrong! Most likely required d value beyond input parameter!!')"
   ]
  },
  {
   "cell_type": "code",
   "execution_count": 17,
   "metadata": {},
   "outputs": [
    {
     "name": "stdout",
     "output_type": "stream",
     "text": [
      "1.99999889\n"
     ]
    }
   ],
   "source": [
    "# Kindly refer to the ans d = 1.99999889 instead to save time, it may even crash\n",
    "\n",
    "minVal_cs(data = close, thres = 1e-5, pval_threshold = 0.05, d_range = [1.9999, 2.0])"
   ]
  },
  {
   "cell_type": "markdown",
   "metadata": {},
   "source": [
    "**Note**\n",
    "\n",
    "If you cumulative sum your financial time-series, before FFD. \n",
    "\n",
    "You will need to differentiate and in this case min d value is very close 2.0"
   ]
  },
  {
   "cell_type": "code",
   "execution_count": 18,
   "metadata": {},
   "outputs": [
    {
     "name": "stdout",
     "output_type": "stream",
     "text": [
      "\n",
      "ADF pVal: 0.04165 with critical value: 5.0%\n"
     ]
    }
   ],
   "source": [
    "# if d value was 1.999999 ADF p value would be 0.01695 < 0.04165 < 0.05\n",
    "\n",
    "ffd3 = fracDiff_FFD(cumsum_logp, \n",
    "                    d = 1.99999889, \n",
    "                    thres=1e-5\n",
    "                   ).dropna()\n",
    "\n",
    "adf_pval = adfuller(ffd3.squeeze(), \n",
    "                    maxlag = 1,\n",
    "                    regression='c', \n",
    "                    autolag=None)[1]\n",
    "\n",
    "p(\"\\nADF pVal: {0:.5f} with critical value: {1}%\".format(adf_pval, test_val * 100))"
   ]
  },
  {
   "cell_type": "code",
   "execution_count": 19,
   "metadata": {},
   "outputs": [
    {
     "data": {
      "text/plain": [
       "<matplotlib.axes._subplots.AxesSubplot at 0x238801f6488>"
      ]
     },
     "execution_count": 19,
     "metadata": {},
     "output_type": "execute_result"
    },
    {
     "data": {
      "image/png": "[encoded data removed]",
      "text/plain": [
       "<Figure size 720x576 with 2 Axes>"
      ]
     },
     "metadata": {
      "needs_background": "light"
     },
     "output_type": "display_data"
    }
   ],
   "source": [
    "fracdiff_series = pd.DataFrame(index=ffd3.index).assign(ffd3 = ffd3, #after fractional differentiate\n",
    "                                                        cumsum_logp = cumsum_logp, #cumulative sum of log price\n",
    "                                                        close = close) #original\n",
    "\n",
    "fracdiff_series[['ffd3', 'close']].plot(secondary_y='close', figsize=(10,8)) #not even remotely close"
   ]
  },
  {
   "cell_type": "code",
   "execution_count": 20,
   "metadata": {},
   "outputs": [
    {
     "data": {
      "text/html": [
       "<div>\n",
       "<style scoped>\n",
       "    .dataframe tbody tr th:only-of-type {\n",
       "        vertical-align: middle;\n",
       "    }\n",
       "\n",
       "    .dataframe tbody tr th {\n",
       "        vertical-align: top;\n",
       "    }\n",
       "\n",
       "    .dataframe thead th {\n",
       "        text-align: right;\n",
       "    }\n",
       "</style>\n",
       "<table border=\"1\" class=\"dataframe\">\n",
       "  <thead>\n",
       "    <tr style=\"text-align: right;\">\n",
       "      <th></th>\n",
       "      <th>ffd3</th>\n",
       "      <th>cumsum_logp</th>\n",
       "      <th>close</th>\n",
       "    </tr>\n",
       "  </thead>\n",
       "  <tbody>\n",
       "    <tr>\n",
       "      <th>ffd3</th>\n",
       "      <td>1.000000</td>\n",
       "      <td>-0.998939</td>\n",
       "      <td>-0.405165</td>\n",
       "    </tr>\n",
       "    <tr>\n",
       "      <th>cumsum_logp</th>\n",
       "      <td>-0.998939</td>\n",
       "      <td>1.000000</td>\n",
       "      <td>0.406330</td>\n",
       "    </tr>\n",
       "    <tr>\n",
       "      <th>close</th>\n",
       "      <td>-0.405165</td>\n",
       "      <td>0.406330</td>\n",
       "      <td>1.000000</td>\n",
       "    </tr>\n",
       "  </tbody>\n",
       "</table>\n",
       "</div>"
      ],
      "text/plain": [
       "                 ffd3  cumsum_logp     close\n",
       "ffd3         1.000000    -0.998939 -0.405165\n",
       "cumsum_logp -0.998939     1.000000  0.406330\n",
       "close       -0.405165     0.406330  1.000000"
      ]
     },
     "execution_count": 20,
     "metadata": {},
     "output_type": "execute_result"
    },
    {
     "data": {
      "image/png": "[encoded data removed]",
      "text/plain": [
       "<Figure size 720x576 with 2 Axes>"
      ]
     },
     "metadata": {
      "needs_background": "light"
     },
     "output_type": "display_data"
    }
   ],
   "source": [
    "fracdiff_series[['ffd3', 'cumsum_logp']].plot(secondary_y='cumsum_logp', figsize=(10,8)) #not even remotely close\n",
    "\n",
    "fracdiff_series.corr(method='pearson') # see correlation matrix"
   ]
  },
  {
   "cell_type": "code",
   "execution_count": 21,
   "metadata": {},
   "outputs": [
    {
     "name": "stdout",
     "output_type": "stream",
     "text": [
      "ADF pVal for original time-series: 0.29394421553033817\n",
      "\n",
      "ADF pVal for acummulative log price time-series: 0.9979035515620875\n",
      "\n",
      "Jarque Bera pVal: 0.00000\n",
      "\n",
      "Engel-Granger Coint pVal: 0.009683330960666188\n"
     ]
    }
   ],
   "source": [
    "p(\"ADF pVal for original time-series: {0}\\n\".format(adfuller(fracdiff_series['close'], \n",
    "                                  maxlag = 1, \n",
    "                                  regression = 'c', \n",
    "                                  autolag=None)[1]))\n",
    "\n",
    "p(\"ADF pVal for acummulative log price time-series: {0}\\n\".format(adfuller(fracdiff_series['cumsum_logp'], \n",
    "                                  maxlag = 1, \n",
    "                                  regression = 'c', \n",
    "                                  autolag=None)[1]))\n",
    "\n",
    "# time-series is not stationary since p-value is more than 0.05\n",
    "\n",
    "p(\"Jarque Bera pVal: {0:.5f}\\n\".format(jarque_bera(fracdiff_series['ffd3'])[1]))\n",
    "\n",
    "# time-series is not normal since p value is less than 0.05\n",
    "\n",
    "result = coint(fracdiff_series['ffd3'], fracdiff_series['close'], maxlag = 1, trend = 'c', autolag = None)\n",
    "\n",
    "p(\"Engel-Granger Coint pVal: {0}\".format(result[1]))\n",
    "\n",
    "# there is a long term relationship since p-value is less than 0.05"
   ]
  },
  {
   "cell_type": "markdown",
   "metadata": {},
   "source": [
    "#### Memory Persistance\n",
    "\n",
    "ADF p-val for original was 0.2939.\n",
    "Corr against FFD was -0.405165, inverse relation.\n",
    "\n",
    "ADF p-val for cumsum log price was 0.9979.\n",
    "Corr against FFD was -0.9989, inverse relation.\n",
    "\n",
    "ADF p-val for FFD using d value 1.99999889 was 0.04165.(Stationary).\n",
    "\n",
    "Coint p-val for FFD and original was 0.009683.\n",
    "\n",
    "Initially we preserve time series memory by log price, however as we cumsum the log price time series we cause these memory to accumulate which increases ADF p-value and more \"unstationary\" since we created a linear trend.\n",
    "\n",
    "In most cases, d value was less than 1 but due to this new cumsum log price we end up using above 1 which will cause \"decay\" to be very aggressive which is reflected in the graph ffd3 vs original time series. \n",
    "\n",
    "However, when perform Engel-Granger Coint test, test result states the two seemingly negatively correlated time-series do have a long term relationship. Most likely due to the memory persistance, which achieved p-value of 0.009683 lower than critical size 0.01.\n",
    "\n",
    "Quote from AFML pg 88, \"Log prices have memory but are non-stationary. Cointegration is the trick that makes regression works on non-stationary series, so that memory is preserved.\".\n",
    "\n",
    "**Conclusion**\n",
    "\n",
    "This is an important finding since we require a stationary series with maximum memory preserved to ensure machine learning use it as key predictive feature effectively.\n",
    "\n",
    "**Note**\n",
    "\n",
    "Graphically using threshold 0.00001, it is still trying to converge towards zero, may require even lower threshold to confirm, however would require intensive computer power."
   ]
  }
 ],
 "metadata": {
  "kernelspec": {
   "display_name": "Python 3",
   "language": "python",
   "name": "python3"
  },
  "language_info": {
   "codemirror_mode": {
    "name": "ipython",
    "version": 3
   },
   "file_extension": ".py",
   "mimetype": "text/x-python",
   "name": "python",
   "nbconvert_exporter": "python",
   "pygments_lexer": "ipython3",
   "version": "3.7.4"
  }
 },
 "nbformat": 4,
 "nbformat_minor": 2
}
