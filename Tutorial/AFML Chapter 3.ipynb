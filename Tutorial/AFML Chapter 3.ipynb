{
 "cells": [
  {
   "cell_type": "code",
   "execution_count": 1,
   "metadata": {},
   "outputs": [],
   "source": [
    "import numpy as np\n",
    "import pandas as pd\n",
    "import matplotlib.pyplot as plt\n",
    "\n",
    "%matplotlib inline\n",
    "\n",
    "p = print\n",
    "\n",
    "#pls take note of version\n",
    "#numpy 1.17.3\n",
    "#pandas 1.0.3\n",
    "#sklearn 0.21.3"
   ]
  },
  {
   "cell_type": "code",
   "execution_count": 2,
   "metadata": {},
   "outputs": [
    {
     "name": "stdout",
     "output_type": "stream",
     "text": [
      "\n",
      "\n",
      "Support us on Patreon: https://www.patreon.com/HudsonThames\n",
      "\n",
      "MlFinLab needs you! We need your help for us to keep on maintaining and implementing academic research based on \n",
      "financial machine learning (for open-source). In order for us to continue we need to raise $4000 of monthly donations\n",
      "via Patreon - by December 2020. If we can't reach our goal, we will need to adopt more of a paid for service. We thought\n",
      "that the best and least impactful course of action (should we not reach our goal) is to leave the package as open-source\n",
      "but to make the documentation (ReadTheDocs) a paid for service. This is the ultimate litmus test, if the package is a \n",
      "value add, then we need the community to help us keep it going.\n",
      "\n",
      "Our road map for 2020 is to implement the text book: Machine Learning for Asset Managers by Marcos Lopez de Prado, \n",
      "as well as a few papers from the Journal of Financial Data Science. We are hiring a full time developer for 3 months \n",
      "to help us reach our goals. The money that you, our sponsors, contribute will go directly to paying salaries and other \n",
      "expenses such as journal subscriptions and data. \n",
      "\n",
      "We need your help to continue maintaining and developing this community. Thank you for using our package and we \n",
      "invite you to join our slack channel using the following link:\n",
      "https://join.slack.com/t/mlfinlab/shared_invite/zt-c62u9gpz-VFc13j6da~UVg3DkV7~RjQ\n",
      "\n",
      "\n",
      "\n"
     ]
    }
   ],
   "source": [
    "from mlfinlab.util.volatility import get_daily_vol\n",
    "from mlfinlab.filters import cusum_filter\n",
    "\n",
    "from mlfinlab.labeling import add_vertical_barrier\n",
    "from mlfinlab.labeling import get_events\n",
    "from mlfinlab.labeling import get_bins\n",
    "\n",
    "dollar = pd.read_csv('./Sample_data/dollar_bars.txt', \n",
    "                 sep=',', \n",
    "                 header=0, \n",
    "                 parse_dates = True, \n",
    "                 index_col=['date_time'])\n"
   ]
  },
  {
   "cell_type": "code",
   "execution_count": 3,
   "metadata": {},
   "outputs": [
    {
     "data": {
      "text/plain": [
       "count    24079.000000\n",
       "mean      2061.126864\n",
       "std         88.690949\n",
       "min       1805.750000\n",
       "25%       2013.750000\n",
       "50%       2073.250000\n",
       "75%       2114.250000\n",
       "max       2272.000000\n",
       "Name: close, dtype: float64"
      ]
     },
     "execution_count": 3,
     "metadata": {},
     "output_type": "execute_result"
    }
   ],
   "source": [
    "dollar['close'].describe()"
   ]
  },
  {
   "cell_type": "code",
   "execution_count": 4,
   "metadata": {},
   "outputs": [
    {
     "name": "stdout",
     "output_type": "stream",
     "text": [
      "Total events after cusum filtered: 2611\n"
     ]
    }
   ],
   "source": [
    "vol = get_daily_vol(dollar['close'], lookback = 21)\n",
    "cusum_events = cusum_filter(dollar['close'], threshold=vol.mean())\n",
    "\n",
    "p(\"Total events after cusum filtered: {0}\".format(cusum_events.shape[0]))"
   ]
  },
  {
   "cell_type": "code",
   "execution_count": 5,
   "metadata": {},
   "outputs": [],
   "source": [
    "vertical_barriers = add_vertical_barrier(t_events = cusum_events,\n",
    "                                         close = dollar['close'],\n",
    "                                         num_days = 1)"
   ]
  },
  {
   "cell_type": "code",
   "execution_count": 6,
   "metadata": {},
   "outputs": [
    {
     "name": "stderr",
     "output_type": "stream",
     "text": [
      "2020-05-06 21:07:21.696774 33.33% apply_pt_sl_on_t1 done after 0.11 minutes. Remaining 0.22 minutes.\r",
      "2020-05-06 21:07:21.696774 66.67% apply_pt_sl_on_t1 done after 0.11 minutes. Remaining 0.06 minutes.\r",
      "2020-05-06 21:07:21.714795 100.0% apply_pt_sl_on_t1 done after 0.11 minutes. Remaining 0.0 minutes.\n"
     ]
    }
   ],
   "source": [
    "pt_sl = [1, 1]\n",
    "\n",
    "# min_ret must always be higher than cusum filter threshold\n",
    "min_ret = 0.005\n",
    "triple_barrier_events = get_events(close=dollar['close'],\n",
    "                                   t_events = cusum_events,\n",
    "                                   pt_sl = pt_sl,\n",
    "                                   target = vol,\n",
    "                                   min_ret = min_ret,\n",
    "                                   num_threads = 3,\n",
    "                                   vertical_barrier_times = vertical_barriers,\n",
    "                                   side_prediction = None)"
   ]
  },
  {
   "cell_type": "code",
   "execution_count": 7,
   "metadata": {},
   "outputs": [
    {
     "data": {
      "text/plain": [
       " 1    395\n",
       "-1    372\n",
       " 0    108\n",
       "Name: bin, dtype: int64"
      ]
     },
     "execution_count": 7,
     "metadata": {},
     "output_type": "execute_result"
    }
   ],
   "source": [
    "meta_label = get_bins(triple_barrier_events, dollar['close'])\n",
    "meta_label['bin'].value_counts()\n",
    "\n",
    "# 0 means vertical barrier was hit first rather than take profit or stop loss limit"
   ]
  },
  {
   "cell_type": "markdown",
   "metadata": {},
   "source": [
    "## Mean-reversion Strategy\n",
    "\n",
    "Exercise 3.5\n",
    "\n",
    "Design a mean-reversion strategy using boillinger band before feeding to random forest."
   ]
  },
  {
   "cell_type": "code",
   "execution_count": 8,
   "metadata": {},
   "outputs": [],
   "source": [
    "def bband(data: pd.DataFrame, window: int = 21, width: float = 0.001):\n",
    "    avg = data['close'].ewm(span = window).mean()\n",
    "    std = avg * width\n",
    "    upper = avg + std\n",
    "    lower = avg - std\n",
    "    return avg, upper, lower, std\n",
    "\n",
    "dollar['ewm'], dollar['upper'], dollar['lower'], dollar['std'] = bband(dollar)\n",
    "\n",
    "# Check for normality, serial correlation, overall statistical properties, frequency count stability"
   ]
  },
  {
   "cell_type": "code",
   "execution_count": 9,
   "metadata": {},
   "outputs": [
    {
     "name": "stdout",
     "output_type": "stream",
     "text": [
      "Num of times upper limit touched: 8495\n",
      "Num of times lower limit touched: 7811\n"
     ]
    },
    {
     "data": {
      "text/plain": [
       "-1.0    8495\n",
       " 1.0    7811\n",
       "Name: side, dtype: int64"
      ]
     },
     "execution_count": 9,
     "metadata": {},
     "output_type": "execute_result"
    }
   ],
   "source": [
    "dollar['side'] = np.nan\n",
    "\n",
    "def side_pick(data: pd.DataFrame):\n",
    "    for i in np.arange(data.index.shape[0]):\n",
    "        if (data['close'].iloc[i] >= data['upper'].iloc[i]):\n",
    "            data['side'].iat[i] = -1\n",
    "        elif (data['close'].iloc[i] <= data['lower'].iloc[i]):\n",
    "            data['side'].iat[i] = 1\n",
    "    return data\n",
    "\n",
    "upper = dollar[dollar['upper'] < dollar['close']] # short signal\n",
    "lower = dollar[dollar['lower'] > dollar['close']] # long signal\n",
    "\n",
    "p(\"Num of times upper limit touched: {0}\\nNum of times lower limit touched: {1}\"\n",
    "  .format(upper.count()[0], \n",
    "          lower.count()[0]))\n",
    "\n",
    "# Recall white test as a benchmark and until this stage we filtered all those which did not meet min return\n",
    "dollar = side_pick(dollar)\n",
    "dollar.dropna(inplace= True)\n",
    "dollar['side'].value_counts()\n",
    "\n",
    "#slightly imbalanced"
   ]
  },
  {
   "cell_type": "code",
   "execution_count": 10,
   "metadata": {},
   "outputs": [
    {
     "name": "stdout",
     "output_type": "stream",
     "text": [
      "Total events after cusum filtered: 2169\n",
      "Threshold: 0.004044819271227875\n"
     ]
    }
   ],
   "source": [
    "vol = get_daily_vol(dollar['close'], lookback = 14)\n",
    "\n",
    "cusum_events = cusum_filter(dollar['close'], threshold=vol.mean())\n",
    "\n",
    "p(\"Total events after cusum filtered: {0}\\nThreshold: {1}\".format(cusum_events.shape[0], vol.mean()))\n",
    "\n",
    "# Up till this stage you can still play \"cheat\" by getting optimal values by experimental mathematics\n",
    "# hint: first 4 key factors will very much determine 50% of your strategy"
   ]
  },
  {
   "cell_type": "code",
   "execution_count": 11,
   "metadata": {},
   "outputs": [
    {
     "data": {
      "text/html": [
       "<div>\n",
       "<style scoped>\n",
       "    .dataframe tbody tr th:only-of-type {\n",
       "        vertical-align: middle;\n",
       "    }\n",
       "\n",
       "    .dataframe tbody tr th {\n",
       "        vertical-align: top;\n",
       "    }\n",
       "\n",
       "    .dataframe thead th {\n",
       "        text-align: right;\n",
       "    }\n",
       "</style>\n",
       "<table border=\"1\" class=\"dataframe\">\n",
       "  <thead>\n",
       "    <tr style=\"text-align: right;\">\n",
       "      <th></th>\n",
       "      <th>open</th>\n",
       "      <th>high</th>\n",
       "      <th>low</th>\n",
       "      <th>close</th>\n",
       "      <th>cum_vol</th>\n",
       "      <th>cum_dollar</th>\n",
       "      <th>cum_ticks</th>\n",
       "      <th>ewm</th>\n",
       "      <th>upper</th>\n",
       "      <th>lower</th>\n",
       "      <th>std</th>\n",
       "      <th>side</th>\n",
       "    </tr>\n",
       "    <tr>\n",
       "      <th>date_time</th>\n",
       "      <th></th>\n",
       "      <th></th>\n",
       "      <th></th>\n",
       "      <th></th>\n",
       "      <th></th>\n",
       "      <th></th>\n",
       "      <th></th>\n",
       "      <th></th>\n",
       "      <th></th>\n",
       "      <th></th>\n",
       "      <th></th>\n",
       "      <th></th>\n",
       "    </tr>\n",
       "  </thead>\n",
       "  <tbody>\n",
       "    <tr>\n",
       "      <th>2015-01-02 07:07:35.156</th>\n",
       "      <td>2056.75</td>\n",
       "      <td>2067.25</td>\n",
       "      <td>2056.25</td>\n",
       "      <td>2064.00</td>\n",
       "      <td>33968</td>\n",
       "      <td>70010061.25</td>\n",
       "      <td>14514</td>\n",
       "      <td>2060.547619</td>\n",
       "      <td>2062.608167</td>\n",
       "      <td>2058.487071</td>\n",
       "      <td>2.060548</td>\n",
       "      <td>-1.0</td>\n",
       "    </tr>\n",
       "    <tr>\n",
       "      <th>2015-01-02 14:19:33.847</th>\n",
       "      <td>2061.00</td>\n",
       "      <td>2064.25</td>\n",
       "      <td>2058.75</td>\n",
       "      <td>2063.75</td>\n",
       "      <td>33958</td>\n",
       "      <td>70000723.25</td>\n",
       "      <td>12332</td>\n",
       "      <td>2061.404789</td>\n",
       "      <td>2063.466193</td>\n",
       "      <td>2059.343384</td>\n",
       "      <td>2.061405</td>\n",
       "      <td>-1.0</td>\n",
       "    </tr>\n",
       "    <tr>\n",
       "      <th>2015-01-02 14:33:39.311</th>\n",
       "      <td>2063.75</td>\n",
       "      <td>2064.75</td>\n",
       "      <td>2060.00</td>\n",
       "      <td>2064.50</td>\n",
       "      <td>33944</td>\n",
       "      <td>70001009.00</td>\n",
       "      <td>12846</td>\n",
       "      <td>2062.050864</td>\n",
       "      <td>2064.112915</td>\n",
       "      <td>2059.988814</td>\n",
       "      <td>2.062051</td>\n",
       "      <td>-1.0</td>\n",
       "    </tr>\n",
       "    <tr>\n",
       "      <th>2015-01-02 14:42:28.315</th>\n",
       "      <td>2064.50</td>\n",
       "      <td>2066.50</td>\n",
       "      <td>2063.25</td>\n",
       "      <td>2066.00</td>\n",
       "      <td>33901</td>\n",
       "      <td>70010093.25</td>\n",
       "      <td>13032</td>\n",
       "      <td>2062.788295</td>\n",
       "      <td>2064.851084</td>\n",
       "      <td>2060.725507</td>\n",
       "      <td>2.062788</td>\n",
       "      <td>-1.0</td>\n",
       "    </tr>\n",
       "    <tr>\n",
       "      <th>2015-01-02 15:01:45.497</th>\n",
       "      <td>2063.50</td>\n",
       "      <td>2064.00</td>\n",
       "      <td>2058.75</td>\n",
       "      <td>2058.75</td>\n",
       "      <td>34008</td>\n",
       "      <td>70122046.75</td>\n",
       "      <td>13873</td>\n",
       "      <td>2062.252963</td>\n",
       "      <td>2064.315216</td>\n",
       "      <td>2060.190710</td>\n",
       "      <td>2.062253</td>\n",
       "      <td>1.0</td>\n",
       "    </tr>\n",
       "    <tr>\n",
       "      <th>2015-01-02 15:06:57.293</th>\n",
       "      <td>2058.75</td>\n",
       "      <td>2062.00</td>\n",
       "      <td>2056.75</td>\n",
       "      <td>2058.75</td>\n",
       "      <td>33998</td>\n",
       "      <td>70015029.25</td>\n",
       "      <td>13150</td>\n",
       "      <td>2061.734698</td>\n",
       "      <td>2063.796433</td>\n",
       "      <td>2059.672964</td>\n",
       "      <td>2.061735</td>\n",
       "      <td>1.0</td>\n",
       "    </tr>\n",
       "  </tbody>\n",
       "</table>\n",
       "</div>"
      ],
      "text/plain": [
       "                            open     high      low    close  cum_vol  \\\n",
       "date_time                                                              \n",
       "2015-01-02 07:07:35.156  2056.75  2067.25  2056.25  2064.00    33968   \n",
       "2015-01-02 14:19:33.847  2061.00  2064.25  2058.75  2063.75    33958   \n",
       "2015-01-02 14:33:39.311  2063.75  2064.75  2060.00  2064.50    33944   \n",
       "2015-01-02 14:42:28.315  2064.50  2066.50  2063.25  2066.00    33901   \n",
       "2015-01-02 15:01:45.497  2063.50  2064.00  2058.75  2058.75    34008   \n",
       "2015-01-02 15:06:57.293  2058.75  2062.00  2056.75  2058.75    33998   \n",
       "\n",
       "                          cum_dollar  cum_ticks          ewm        upper  \\\n",
       "date_time                                                                   \n",
       "2015-01-02 07:07:35.156  70010061.25      14514  2060.547619  2062.608167   \n",
       "2015-01-02 14:19:33.847  70000723.25      12332  2061.404789  2063.466193   \n",
       "2015-01-02 14:33:39.311  70001009.00      12846  2062.050864  2064.112915   \n",
       "2015-01-02 14:42:28.315  70010093.25      13032  2062.788295  2064.851084   \n",
       "2015-01-02 15:01:45.497  70122046.75      13873  2062.252963  2064.315216   \n",
       "2015-01-02 15:06:57.293  70015029.25      13150  2061.734698  2063.796433   \n",
       "\n",
       "                               lower       std  side  \n",
       "date_time                                             \n",
       "2015-01-02 07:07:35.156  2058.487071  2.060548  -1.0  \n",
       "2015-01-02 14:19:33.847  2059.343384  2.061405  -1.0  \n",
       "2015-01-02 14:33:39.311  2059.988814  2.062051  -1.0  \n",
       "2015-01-02 14:42:28.315  2060.725507  2.062788  -1.0  \n",
       "2015-01-02 15:01:45.497  2060.190710  2.062253   1.0  \n",
       "2015-01-02 15:06:57.293  2059.672964  2.061735   1.0  "
      ]
     },
     "execution_count": 11,
     "metadata": {},
     "output_type": "execute_result"
    }
   ],
   "source": [
    "# Quick check on data till this stage\n",
    "\n",
    "dollar.head(6)"
   ]
  },
  {
   "cell_type": "code",
   "execution_count": 12,
   "metadata": {},
   "outputs": [
    {
     "name": "stderr",
     "output_type": "stream",
     "text": [
      "2020-05-06 21:07:32.857303 33.33% apply_pt_sl_on_t1 done after 0.12 minutes. Remaining 0.24 minutes.\r",
      "2020-05-06 21:07:32.878061 66.67% apply_pt_sl_on_t1 done after 0.12 minutes. Remaining 0.06 minutes.\r",
      "2020-05-06 21:07:32.899734 100.0% apply_pt_sl_on_t1 done after 0.12 minutes. Remaining 0.0 minutes.\n"
     ]
    }
   ],
   "source": [
    "vertical_barriers = add_vertical_barrier(t_events = cusum_events,\n",
    "                                         close = dollar['close'],\n",
    "                                         num_days = 1)\n",
    "\n",
    "# If you notice we have more short signal than long signal\n",
    "pt_sl = [0, 2]\n",
    "# min_ret must always be higher than cusum filter threshold\n",
    "min_ret = 0.005\n",
    "\n",
    "triple_barrier_events = get_events(close=dollar['close'],\n",
    "                                   t_events = cusum_events,\n",
    "                                   pt_sl = pt_sl,\n",
    "                                   target = vol,\n",
    "                                   min_ret = min_ret,\n",
    "                                   num_threads = 3,\n",
    "                                   vertical_barrier_times = vertical_barriers,\n",
    "                                   side_prediction = dollar['side'])"
   ]
  },
  {
   "cell_type": "code",
   "execution_count": 13,
   "metadata": {},
   "outputs": [
    {
     "data": {
      "text/plain": [
       "0    388\n",
       "1    332\n",
       "Name: bin, dtype: int64"
      ]
     },
     "execution_count": 13,
     "metadata": {},
     "output_type": "execute_result"
    }
   ],
   "source": [
    "# num of profitable trades\n",
    "# this is actually quite balanced, so in this sense we don't have to downsample majority or upsample minority\n",
    "# https://elitedatascience.com/imbalanced-classes\n",
    "\n",
    "meta_label = get_bins(triple_barrier_events, dollar['close'])\n",
    "dollar0 = dollar.reindex(meta_label.index).copy()\n",
    "meta_label['bin'].value_counts()"
   ]
  },
  {
   "cell_type": "code",
   "execution_count": 14,
   "metadata": {},
   "outputs": [
    {
     "data": {
      "text/plain": [
       " 1.0    369\n",
       "-1.0    351\n",
       "Name: side, dtype: int64"
      ]
     },
     "execution_count": 14,
     "metadata": {},
     "output_type": "execute_result"
    }
   ],
   "source": [
    "#num of short signal vs long signal\n",
    "\n",
    "meta_label['side'].value_counts()"
   ]
  },
  {
   "cell_type": "code",
   "execution_count": 15,
   "metadata": {},
   "outputs": [
    {
     "name": "stdout",
     "output_type": "stream",
     "text": [
      "short signal with false positive: 207\n",
      "long signal with false positive: 181\n"
     ]
    }
   ],
   "source": [
    "sh_false = meta_label[(meta_label['side'] == -1.0) & (meta_label['bin'] == 0)].count()[0]\n",
    "ln_false = meta_label[(meta_label['side'] == 1.0) & (meta_label['bin'] == 0)].count()[0]\n",
    "\n",
    "p(\"short signal with false positive: {0}\\nlong signal with false positive: {1}\"\n",
    "  .format(sh_false, ln_false))"
   ]
  },
  {
   "cell_type": "code",
   "execution_count": 16,
   "metadata": {},
   "outputs": [
    {
     "name": "stderr",
     "output_type": "stream",
     "text": [
      "C:\\Users\\Wei_X\\Anaconda3\\lib\\site-packages\\statsmodels\\tools\\_testing.py:19: FutureWarning: pandas.util.testing is deprecated. Use the functions in the public API at pandas.testing instead.\n",
      "  import pandas.util.testing as tm\n"
     ]
    }
   ],
   "source": [
    "from sklearn.utils import resample\n",
    "from sklearn.utils import shuffle\n",
    "from sklearn.ensemble import RandomForestClassifier\n",
    "from sklearn.model_selection import train_test_split\n",
    "\n",
    "from sklearn.metrics import roc_curve\n",
    "from sklearn.metrics import classification_report\n",
    "from sklearn.metrics import confusion_matrix\n",
    "from sklearn.metrics import accuracy_score\n",
    "from sklearn.metrics import roc_auc_score\n",
    "\n",
    "from sklearn.model_selection import cross_val_score\n",
    "from sklearn.model_selection import GridSearchCV\n",
    "\n",
    "from sklearn.preprocessing import StandardScaler \n",
    "from sklearn.decomposition import PCA\n",
    "\n",
    "from statsmodels.tsa.arima_model import ARMA\n",
    "from statsmodels.tsa.stattools import adfuller, kpss\n",
    "\n",
    "def report_matrix(actual: pd.Series, pred: pd.Series):\n",
    "    if (actual.value_counts()[1] < actual.value_counts()[0]) and pred.iloc[1] != 1:\n",
    "        p(\"prediction value should be 1\\n\")\n",
    "    elif (actual.value_counts()[1] > actual.value_counts()[0]) and pred.iloc[1] != 0:\n",
    "        p(\"prediction value should be 0\\n\")\n",
    "    \n",
    "    sep = \"=\" * 55\n",
    "    p(\" Classification Report\\n{0}\\n{1}\\n\"\n",
    "      .format(sep, \n",
    "              classification_report(y_true=actual,\n",
    "                                    y_pred=pred)))\n",
    "\n",
    "    p(\" Confusion Matrix\\n{0}\\n{1}\\n{2}\\n\".format(sep,\"[[TN, FP]\\n [FN, TP]]\\n\", confusion_matrix(actual, pred)))\n",
    "\n",
    "    p(\" Accuracy Score\\n{0}\\n{1}\\n\".format(sep, accuracy_score(actual, pred)))"
   ]
  },
  {
   "cell_type": "code",
   "execution_count": 17,
   "metadata": {},
   "outputs": [
    {
     "name": "stdout",
     "output_type": "stream",
     "text": [
      " Classification Report\n",
      "=======================================================\n",
      "              precision    recall  f1-score   support\n",
      "\n",
      "           0       0.00      0.00      0.00       388\n",
      "           1       0.46      1.00      0.63       332\n",
      "\n",
      "    accuracy                           0.46       720\n",
      "   macro avg       0.23      0.50      0.32       720\n",
      "weighted avg       0.21      0.46      0.29       720\n",
      "\n",
      "\n",
      " Confusion Matrix\n",
      "=======================================================\n",
      "[[TN, FP]\n",
      " [FN, TP]]\n",
      "\n",
      "[[  0 388]\n",
      " [  0 332]]\n",
      "\n",
      " Accuracy Score\n",
      "=======================================================\n",
      "0.46111111111111114\n",
      "\n"
     ]
    },
    {
     "name": "stderr",
     "output_type": "stream",
     "text": [
      "C:\\Users\\Wei_X\\Anaconda3\\lib\\site-packages\\sklearn\\metrics\\classification.py:1437: UndefinedMetricWarning: Precision and F-score are ill-defined and being set to 0.0 in labels with no predicted samples.\n",
      "  'precision', 'predicted', average, warn_for)\n"
     ]
    }
   ],
   "source": [
    "# This is a quick trick to see [TP FP]\n",
    "\n",
    "forecast0 = meta_label['bin'].to_frame(name = 'actual')\n",
    "forecast0['side'] = meta_label['side'] # you don't need this step its optional\n",
    "forecast0['pred'] = pd.Series(1, index = forecast0.index) # by default we choose how many labels are profitable\n",
    "    \n",
    "report_matrix(forecast0['actual'], forecast0['pred']) # we will be focus on True positive"
   ]
  },
  {
   "cell_type": "code",
   "execution_count": 18,
   "metadata": {},
   "outputs": [
    {
     "name": "stdout",
     "output_type": "stream",
     "text": [
      "0.3279245669880023\n",
      "0.01\n"
     ]
    },
    {
     "name": "stderr",
     "output_type": "stream",
     "text": [
      "C:\\Users\\Wei_X\\Anaconda3\\lib\\site-packages\\statsmodels\\tsa\\stattools.py:1708: InterpolationWarning: p-value is smaller than the indicated p-value\n",
      "  warn(\"p-value is smaller than the indicated p-value\", InterpolationWarning)\n"
     ]
    }
   ],
   "source": [
    "# confirm stationary using adf > 0.05 and kpss < 0.05 to pass test\n",
    "\n",
    "p(adfuller(dollar0['close'], maxlag=1, regression='c', autolag ='AIC')[1])\n",
    "p(kpss(dollar0['close'], regression='ct', lags='auto')[1])\n"
   ]
  },
  {
   "cell_type": "code",
   "execution_count": 19,
   "metadata": {},
   "outputs": [],
   "source": [
    "dollar0['log_price'] = np.log(dollar0['close']) #this will be our stationary feature\n",
    "dollar0['log_return'] = dollar0['log_price'].diff()\n",
    "\n",
    "# Before you use ARIMA pls make sure data input is stationary\n",
    "\n",
    "from statsmodels.tsa.arima_model import ARMA\n",
    "def ar_model_resid(data: pd.DataFrame, nlags: int = 3):\n",
    "    for i in np.arange(nlags):\n",
    "        ar_model = ARMA(data['close'], order=(i,0)).fit().resid\n",
    "        data['ar_'+ str(i)] = ar_model\n",
    "    return data\n",
    "\n",
    "def ma_model_resid(data: pd.DataFrame, nlags: int = 3):\n",
    "    for i in np.arange(1, nlags + 1):\n",
    "        try:\n",
    "            ma_model = ARMA(data['close'], order=(0,i)).fit().resid\n",
    "            data['ma_'+ str(i)] = ma_model\n",
    "        except:\n",
    "            break\n",
    "    return data"
   ]
  },
  {
   "cell_type": "code",
   "execution_count": 20,
   "metadata": {},
   "outputs": [
    {
     "name": "stderr",
     "output_type": "stream",
     "text": [
      "C:\\Users\\Wei_X\\Anaconda3\\lib\\site-packages\\statsmodels\\tsa\\base\\tsa_model.py:219: ValueWarning: A date index has been provided, but it has no associated frequency information and so will be ignored when e.g. forecasting.\n",
      "  ' ignored when e.g. forecasting.', ValueWarning)\n",
      "C:\\Users\\Wei_X\\Anaconda3\\lib\\site-packages\\statsmodels\\tsa\\base\\tsa_model.py:219: ValueWarning: A date index has been provided, but it has no associated frequency information and so will be ignored when e.g. forecasting.\n",
      "  ' ignored when e.g. forecasting.', ValueWarning)\n",
      "C:\\Users\\Wei_X\\Anaconda3\\lib\\site-packages\\statsmodels\\tsa\\base\\tsa_model.py:219: ValueWarning: A date index has been provided, but it has no associated frequency information and so will be ignored when e.g. forecasting.\n",
      "  ' ignored when e.g. forecasting.', ValueWarning)\n",
      "C:\\Users\\Wei_X\\Anaconda3\\lib\\site-packages\\statsmodels\\tsa\\base\\tsa_model.py:219: ValueWarning: A date index has been provided, but it has no associated frequency information and so will be ignored when e.g. forecasting.\n",
      "  ' ignored when e.g. forecasting.', ValueWarning)\n",
      "C:\\Users\\Wei_X\\Anaconda3\\lib\\site-packages\\statsmodels\\tsa\\base\\tsa_model.py:219: ValueWarning: A date index has been provided, but it has no associated frequency information and so will be ignored when e.g. forecasting.\n",
      "  ' ignored when e.g. forecasting.', ValueWarning)\n",
      "C:\\Users\\Wei_X\\Anaconda3\\lib\\site-packages\\statsmodels\\tsa\\base\\tsa_model.py:219: ValueWarning: A date index has been provided, but it has no associated frequency information and so will be ignored when e.g. forecasting.\n",
      "  ' ignored when e.g. forecasting.', ValueWarning)\n"
     ]
    },
    {
     "data": {
      "text/html": [
       "<div>\n",
       "<style scoped>\n",
       "    .dataframe tbody tr th:only-of-type {\n",
       "        vertical-align: middle;\n",
       "    }\n",
       "\n",
       "    .dataframe tbody tr th {\n",
       "        vertical-align: top;\n",
       "    }\n",
       "\n",
       "    .dataframe thead th {\n",
       "        text-align: right;\n",
       "    }\n",
       "</style>\n",
       "<table border=\"1\" class=\"dataframe\">\n",
       "  <thead>\n",
       "    <tr style=\"text-align: right;\">\n",
       "      <th></th>\n",
       "      <th>open</th>\n",
       "      <th>high</th>\n",
       "      <th>low</th>\n",
       "      <th>close</th>\n",
       "      <th>cum_vol</th>\n",
       "      <th>cum_dollar</th>\n",
       "      <th>cum_ticks</th>\n",
       "      <th>ewm</th>\n",
       "      <th>upper</th>\n",
       "      <th>lower</th>\n",
       "      <th>std</th>\n",
       "      <th>side</th>\n",
       "      <th>log_price</th>\n",
       "      <th>log_return</th>\n",
       "      <th>ar_0</th>\n",
       "      <th>ar_1</th>\n",
       "      <th>ar_2</th>\n",
       "      <th>ma_1</th>\n",
       "      <th>ma_2</th>\n",
       "      <th>ma_3</th>\n",
       "    </tr>\n",
       "  </thead>\n",
       "  <tbody>\n",
       "    <tr>\n",
       "      <th>2015-01-06 15:46:15.037</th>\n",
       "      <td>2018.25</td>\n",
       "      <td>2018.75</td>\n",
       "      <td>2013.75</td>\n",
       "      <td>2013.75</td>\n",
       "      <td>34718</td>\n",
       "      <td>70000590.00</td>\n",
       "      <td>11764</td>\n",
       "      <td>2017.468622</td>\n",
       "      <td>2019.486091</td>\n",
       "      <td>2015.451153</td>\n",
       "      <td>2.017469</td>\n",
       "      <td>1.0</td>\n",
       "      <td>7.607754</td>\n",
       "      <td>NaN</td>\n",
       "      <td>48.051389</td>\n",
       "      <td>28.646805</td>\n",
       "      <td>26.969687</td>\n",
       "      <td>47.884639</td>\n",
       "      <td>47.757164</td>\n",
       "      <td>47.597357</td>\n",
       "    </tr>\n",
       "    <tr>\n",
       "      <th>2015-01-07 16:55:16.638</th>\n",
       "      <td>2013.00</td>\n",
       "      <td>2017.25</td>\n",
       "      <td>2012.50</td>\n",
       "      <td>2017.25</td>\n",
       "      <td>34745</td>\n",
       "      <td>70000093.00</td>\n",
       "      <td>10407</td>\n",
       "      <td>2009.995268</td>\n",
       "      <td>2012.005263</td>\n",
       "      <td>2007.985273</td>\n",
       "      <td>2.009995</td>\n",
       "      <td>-1.0</td>\n",
       "      <td>7.609490</td>\n",
       "      <td>0.001737</td>\n",
       "      <td>51.551389</td>\n",
       "      <td>3.901155</td>\n",
       "      <td>3.873282</td>\n",
       "      <td>27.725271</td>\n",
       "      <td>18.226405</td>\n",
       "      <td>13.370552</td>\n",
       "    </tr>\n",
       "    <tr>\n",
       "      <th>2015-01-08 01:48:57.964</th>\n",
       "      <td>2021.50</td>\n",
       "      <td>2038.25</td>\n",
       "      <td>2021.00</td>\n",
       "      <td>2037.25</td>\n",
       "      <td>34490</td>\n",
       "      <td>70003975.75</td>\n",
       "      <td>16212</td>\n",
       "      <td>2019.258574</td>\n",
       "      <td>2021.277833</td>\n",
       "      <td>2017.239315</td>\n",
       "      <td>2.019259</td>\n",
       "      <td>-1.0</td>\n",
       "      <td>7.619356</td>\n",
       "      <td>0.009866</td>\n",
       "      <td>71.551389</td>\n",
       "      <td>20.450167</td>\n",
       "      <td>20.556969</td>\n",
       "      <td>53.261507</td>\n",
       "      <td>42.098980</td>\n",
       "      <td>34.784545</td>\n",
       "    </tr>\n",
       "    <tr>\n",
       "      <th>2015-01-09 11:47:24.038</th>\n",
       "      <td>2053.75</td>\n",
       "      <td>2053.75</td>\n",
       "      <td>2048.50</td>\n",
       "      <td>2048.75</td>\n",
       "      <td>34123</td>\n",
       "      <td>70005844.50</td>\n",
       "      <td>15007</td>\n",
       "      <td>2052.776761</td>\n",
       "      <td>2054.829538</td>\n",
       "      <td>2050.723984</td>\n",
       "      <td>2.052777</td>\n",
       "      <td>1.0</td>\n",
       "      <td>7.624985</td>\n",
       "      <td>0.005629</td>\n",
       "      <td>83.051389</td>\n",
       "      <td>12.230236</td>\n",
       "      <td>13.046552</td>\n",
       "      <td>44.014732</td>\n",
       "      <td>23.948270</td>\n",
       "      <td>16.742264</td>\n",
       "    </tr>\n",
       "    <tr>\n",
       "      <th>2015-01-09 13:41:02.611</th>\n",
       "      <td>2056.00</td>\n",
       "      <td>2062.00</td>\n",
       "      <td>2056.00</td>\n",
       "      <td>2058.00</td>\n",
       "      <td>33991</td>\n",
       "      <td>70006050.75</td>\n",
       "      <td>11403</td>\n",
       "      <td>2053.483410</td>\n",
       "      <td>2055.536894</td>\n",
       "      <td>2051.429927</td>\n",
       "      <td>2.053483</td>\n",
       "      <td>-1.0</td>\n",
       "      <td>7.629490</td>\n",
       "      <td>0.004505</td>\n",
       "      <td>92.301389</td>\n",
       "      <td>10.141276</td>\n",
       "      <td>10.575280</td>\n",
       "      <td>58.123453</td>\n",
       "      <td>38.332545</td>\n",
       "      <td>25.671836</td>\n",
       "    </tr>\n",
       "    <tr>\n",
       "      <th>...</th>\n",
       "      <td>...</td>\n",
       "      <td>...</td>\n",
       "      <td>...</td>\n",
       "      <td>...</td>\n",
       "      <td>...</td>\n",
       "      <td>...</td>\n",
       "      <td>...</td>\n",
       "      <td>...</td>\n",
       "      <td>...</td>\n",
       "      <td>...</td>\n",
       "      <td>...</td>\n",
       "      <td>...</td>\n",
       "      <td>...</td>\n",
       "      <td>...</td>\n",
       "      <td>...</td>\n",
       "      <td>...</td>\n",
       "      <td>...</td>\n",
       "      <td>...</td>\n",
       "      <td>...</td>\n",
       "      <td>...</td>\n",
       "    </tr>\n",
       "    <tr>\n",
       "      <th>2016-11-10 05:25:08.903</th>\n",
       "      <td>2156.75</td>\n",
       "      <td>2170.50</td>\n",
       "      <td>2156.25</td>\n",
       "      <td>2170.00</td>\n",
       "      <td>32395</td>\n",
       "      <td>70013279.75</td>\n",
       "      <td>7076</td>\n",
       "      <td>2160.014218</td>\n",
       "      <td>2162.174233</td>\n",
       "      <td>2157.854204</td>\n",
       "      <td>2.160014</td>\n",
       "      <td>-1.0</td>\n",
       "      <td>7.682482</td>\n",
       "      <td>0.016963</td>\n",
       "      <td>204.301389</td>\n",
       "      <td>38.578071</td>\n",
       "      <td>38.902818</td>\n",
       "      <td>120.278936</td>\n",
       "      <td>84.747075</td>\n",
       "      <td>73.975272</td>\n",
       "    </tr>\n",
       "    <tr>\n",
       "      <th>2016-11-10 15:03:03.811</th>\n",
       "      <td>2170.25</td>\n",
       "      <td>2172.50</td>\n",
       "      <td>2168.00</td>\n",
       "      <td>2168.75</td>\n",
       "      <td>32250</td>\n",
       "      <td>70004504.75</td>\n",
       "      <td>3713</td>\n",
       "      <td>2171.024805</td>\n",
       "      <td>2173.195829</td>\n",
       "      <td>2168.853780</td>\n",
       "      <td>2.171025</td>\n",
       "      <td>1.0</td>\n",
       "      <td>7.681906</td>\n",
       "      <td>-0.000576</td>\n",
       "      <td>203.051389</td>\n",
       "      <td>1.339197</td>\n",
       "      <td>2.778124</td>\n",
       "      <td>99.824747</td>\n",
       "      <td>47.554419</td>\n",
       "      <td>21.277771</td>\n",
       "    </tr>\n",
       "    <tr>\n",
       "      <th>2016-11-10 15:26:17.610</th>\n",
       "      <td>2163.00</td>\n",
       "      <td>2163.75</td>\n",
       "      <td>2159.75</td>\n",
       "      <td>2159.75</td>\n",
       "      <td>32391</td>\n",
       "      <td>70029178.00</td>\n",
       "      <td>4403</td>\n",
       "      <td>2166.682065</td>\n",
       "      <td>2168.848747</td>\n",
       "      <td>2164.515383</td>\n",
       "      <td>2.166682</td>\n",
       "      <td>1.0</td>\n",
       "      <td>7.677748</td>\n",
       "      <td>-0.004158</td>\n",
       "      <td>194.051389</td>\n",
       "      <td>-6.428307</td>\n",
       "      <td>-6.646965</td>\n",
       "      <td>108.350729</td>\n",
       "      <td>73.599900</td>\n",
       "      <td>47.561424</td>\n",
       "    </tr>\n",
       "    <tr>\n",
       "      <th>2016-11-10 15:37:05.621</th>\n",
       "      <td>2156.75</td>\n",
       "      <td>2157.75</td>\n",
       "      <td>2150.75</td>\n",
       "      <td>2150.75</td>\n",
       "      <td>32496</td>\n",
       "      <td>70009781.50</td>\n",
       "      <td>4105</td>\n",
       "      <td>2162.445001</td>\n",
       "      <td>2164.607446</td>\n",
       "      <td>2160.282556</td>\n",
       "      <td>2.162445</td>\n",
       "      <td>1.0</td>\n",
       "      <td>7.673572</td>\n",
       "      <td>-0.004176</td>\n",
       "      <td>185.051389</td>\n",
       "      <td>-6.554338</td>\n",
       "      <td>-7.106556</td>\n",
       "      <td>92.045321</td>\n",
       "      <td>55.412025</td>\n",
       "      <td>53.098816</td>\n",
       "    </tr>\n",
       "    <tr>\n",
       "      <th>2016-11-11 14:59:22.456</th>\n",
       "      <td>2156.75</td>\n",
       "      <td>2157.00</td>\n",
       "      <td>2153.75</td>\n",
       "      <td>2154.75</td>\n",
       "      <td>32491</td>\n",
       "      <td>70026842.25</td>\n",
       "      <td>4141</td>\n",
       "      <td>2159.521527</td>\n",
       "      <td>2161.681049</td>\n",
       "      <td>2157.362006</td>\n",
       "      <td>2.159522</td>\n",
       "      <td>1.0</td>\n",
       "      <td>7.675430</td>\n",
       "      <td>0.001858</td>\n",
       "      <td>189.051389</td>\n",
       "      <td>6.319631</td>\n",
       "      <td>5.774349</td>\n",
       "      <td>110.016459</td>\n",
       "      <td>65.778322</td>\n",
       "      <td>44.918001</td>\n",
       "    </tr>\n",
       "  </tbody>\n",
       "</table>\n",
       "<p>720 rows × 20 columns</p>\n",
       "</div>"
      ],
      "text/plain": [
       "                            open     high      low    close  cum_vol  \\\n",
       "2015-01-06 15:46:15.037  2018.25  2018.75  2013.75  2013.75    34718   \n",
       "2015-01-07 16:55:16.638  2013.00  2017.25  2012.50  2017.25    34745   \n",
       "2015-01-08 01:48:57.964  2021.50  2038.25  2021.00  2037.25    34490   \n",
       "2015-01-09 11:47:24.038  2053.75  2053.75  2048.50  2048.75    34123   \n",
       "2015-01-09 13:41:02.611  2056.00  2062.00  2056.00  2058.00    33991   \n",
       "...                          ...      ...      ...      ...      ...   \n",
       "2016-11-10 05:25:08.903  2156.75  2170.50  2156.25  2170.00    32395   \n",
       "2016-11-10 15:03:03.811  2170.25  2172.50  2168.00  2168.75    32250   \n",
       "2016-11-10 15:26:17.610  2163.00  2163.75  2159.75  2159.75    32391   \n",
       "2016-11-10 15:37:05.621  2156.75  2157.75  2150.75  2150.75    32496   \n",
       "2016-11-11 14:59:22.456  2156.75  2157.00  2153.75  2154.75    32491   \n",
       "\n",
       "                          cum_dollar  cum_ticks          ewm        upper  \\\n",
       "2015-01-06 15:46:15.037  70000590.00      11764  2017.468622  2019.486091   \n",
       "2015-01-07 16:55:16.638  70000093.00      10407  2009.995268  2012.005263   \n",
       "2015-01-08 01:48:57.964  70003975.75      16212  2019.258574  2021.277833   \n",
       "2015-01-09 11:47:24.038  70005844.50      15007  2052.776761  2054.829538   \n",
       "2015-01-09 13:41:02.611  70006050.75      11403  2053.483410  2055.536894   \n",
       "...                              ...        ...          ...          ...   \n",
       "2016-11-10 05:25:08.903  70013279.75       7076  2160.014218  2162.174233   \n",
       "2016-11-10 15:03:03.811  70004504.75       3713  2171.024805  2173.195829   \n",
       "2016-11-10 15:26:17.610  70029178.00       4403  2166.682065  2168.848747   \n",
       "2016-11-10 15:37:05.621  70009781.50       4105  2162.445001  2164.607446   \n",
       "2016-11-11 14:59:22.456  70026842.25       4141  2159.521527  2161.681049   \n",
       "\n",
       "                               lower       std  side  log_price  log_return  \\\n",
       "2015-01-06 15:46:15.037  2015.451153  2.017469   1.0   7.607754         NaN   \n",
       "2015-01-07 16:55:16.638  2007.985273  2.009995  -1.0   7.609490    0.001737   \n",
       "2015-01-08 01:48:57.964  2017.239315  2.019259  -1.0   7.619356    0.009866   \n",
       "2015-01-09 11:47:24.038  2050.723984  2.052777   1.0   7.624985    0.005629   \n",
       "2015-01-09 13:41:02.611  2051.429927  2.053483  -1.0   7.629490    0.004505   \n",
       "...                              ...       ...   ...        ...         ...   \n",
       "2016-11-10 05:25:08.903  2157.854204  2.160014  -1.0   7.682482    0.016963   \n",
       "2016-11-10 15:03:03.811  2168.853780  2.171025   1.0   7.681906   -0.000576   \n",
       "2016-11-10 15:26:17.610  2164.515383  2.166682   1.0   7.677748   -0.004158   \n",
       "2016-11-10 15:37:05.621  2160.282556  2.162445   1.0   7.673572   -0.004176   \n",
       "2016-11-11 14:59:22.456  2157.362006  2.159522   1.0   7.675430    0.001858   \n",
       "\n",
       "                               ar_0       ar_1       ar_2        ma_1  \\\n",
       "2015-01-06 15:46:15.037   48.051389  28.646805  26.969687   47.884639   \n",
       "2015-01-07 16:55:16.638   51.551389   3.901155   3.873282   27.725271   \n",
       "2015-01-08 01:48:57.964   71.551389  20.450167  20.556969   53.261507   \n",
       "2015-01-09 11:47:24.038   83.051389  12.230236  13.046552   44.014732   \n",
       "2015-01-09 13:41:02.611   92.301389  10.141276  10.575280   58.123453   \n",
       "...                             ...        ...        ...         ...   \n",
       "2016-11-10 05:25:08.903  204.301389  38.578071  38.902818  120.278936   \n",
       "2016-11-10 15:03:03.811  203.051389   1.339197   2.778124   99.824747   \n",
       "2016-11-10 15:26:17.610  194.051389  -6.428307  -6.646965  108.350729   \n",
       "2016-11-10 15:37:05.621  185.051389  -6.554338  -7.106556   92.045321   \n",
       "2016-11-11 14:59:22.456  189.051389   6.319631   5.774349  110.016459   \n",
       "\n",
       "                              ma_2       ma_3  \n",
       "2015-01-06 15:46:15.037  47.757164  47.597357  \n",
       "2015-01-07 16:55:16.638  18.226405  13.370552  \n",
       "2015-01-08 01:48:57.964  42.098980  34.784545  \n",
       "2015-01-09 11:47:24.038  23.948270  16.742264  \n",
       "2015-01-09 13:41:02.611  38.332545  25.671836  \n",
       "...                            ...        ...  \n",
       "2016-11-10 05:25:08.903  84.747075  73.975272  \n",
       "2016-11-10 15:03:03.811  47.554419  21.277771  \n",
       "2016-11-10 15:26:17.610  73.599900  47.561424  \n",
       "2016-11-10 15:37:05.621  55.412025  53.098816  \n",
       "2016-11-11 14:59:22.456  65.778322  44.918001  \n",
       "\n",
       "[720 rows x 20 columns]"
      ]
     },
     "execution_count": 20,
     "metadata": {},
     "output_type": "execute_result"
    }
   ],
   "source": [
    "dollar0 = ar_model_resid(dollar0)\n",
    "dollar0 = ma_model_resid(dollar0)\n",
    "dollar0"
   ]
  },
  {
   "cell_type": "code",
   "execution_count": 21,
   "metadata": {},
   "outputs": [],
   "source": [
    "# Now to train test, make sure NaN and shape is correct\n",
    "\n",
    "X = dollar0.copy().dropna()\n",
    "y = meta_label['bin'].iloc[1:]\n",
    "X.drop(['open', 'high','low', 'close', 'cum_vol', 'cum_dollar', 'cum_ticks'], axis=1, inplace=True)"
   ]
  },
  {
   "cell_type": "code",
   "execution_count": 22,
   "metadata": {},
   "outputs": [],
   "source": [
    "X_train, X_validate, y_train, y_validate = train_test_split(X, y, test_size=0.2, shuffle=False)"
   ]
  },
  {
   "cell_type": "code",
   "execution_count": 23,
   "metadata": {},
   "outputs": [
    {
     "name": "stdout",
     "output_type": "stream",
     "text": [
      "[0.50693011 0.45893483 0.47410772 0.48323735 0.48616922 0.49106005\n",
      " 0.48788966 0.49361365 0.49961747 0.48749985 0.48969366 0.49269413\n",
      " 0.49863408 0.50416051 0.4986768  0.49907375 0.47207829 0.49673602\n",
      " 0.49981212 0.50832672 0.51754598 0.51360026 0.51010391 0.50968929\n",
      " 0.49858693 0.50351413 0.49694643 0.50012298 0.5067196  0.50858661\n",
      " 0.50678215 0.51028617 0.51660353 0.50769153 0.50762741 0.50269131\n",
      " 0.5120443  0.51299704 0.5103134  0.5103532 ]\n"
     ]
    },
    {
     "name": "stderr",
     "output_type": "stream",
     "text": [
      "C:\\Users\\Wei_X\\Anaconda3\\lib\\site-packages\\sklearn\\model_selection\\_search.py:814: DeprecationWarning: The default of the `iid` parameter will change from True to False in version 0.22 and will be removed in 0.24. This will change numeric results when test-set sizes are unequal.\n",
      "  DeprecationWarning)\n"
     ]
    }
   ],
   "source": [
    "parameters = {'max_depth':[2, 3, 4, 5, 7], #need to skip 6 if not ROC v weird\n",
    "              'n_estimators':[1, 10, 25, 50, 100, 150, 250, 500],\n",
    "              'random_state':[42]}\n",
    "\n",
    "def perform_grid_search(X_data, y_data):\n",
    "    rf = RandomForestClassifier(criterion='entropy')\n",
    "    \n",
    "    clf = GridSearchCV(rf, parameters, cv=4, scoring='roc_auc', n_jobs=3)\n",
    "    \n",
    "    clf.fit(X_data, y_data)\n",
    "    \n",
    "    print(clf.cv_results_['mean_test_score'])\n",
    "    \n",
    "    return clf.best_params_['n_estimators'], clf.best_params_['max_depth']\n",
    "\n",
    "# best parameter to be used\n",
    "\n",
    "n_estimators, max_depth = perform_grid_search(X_train, y_train)\n",
    "c_random_state = 42"
   ]
  },
  {
   "cell_type": "code",
   "execution_count": 24,
   "metadata": {},
   "outputs": [
    {
     "data": {
      "text/plain": [
       "RandomForestClassifier(bootstrap=True, class_weight=None, criterion='entropy',\n",
       "                       max_depth=4, max_features='auto', max_leaf_nodes=None,\n",
       "                       min_impurity_decrease=0.0, min_impurity_split=None,\n",
       "                       min_samples_leaf=1, min_samples_split=2,\n",
       "                       min_weight_fraction_leaf=0.0, n_estimators=100,\n",
       "                       n_jobs=None, oob_score=False, random_state=42, verbose=0,\n",
       "                       warm_start=False)"
      ]
     },
     "execution_count": 24,
     "metadata": {},
     "output_type": "execute_result"
    }
   ],
   "source": [
    "# Random Forest Model\n",
    "\n",
    "rf = RandomForestClassifier(max_depth=max_depth, n_estimators=n_estimators,\n",
    "                            criterion='entropy', random_state=c_random_state)\n",
    "\n",
    "# max depth is only 2..\n",
    "rf.fit(X_train, y_train.values.ravel())"
   ]
  },
  {
   "cell_type": "code",
   "execution_count": 25,
   "metadata": {},
   "outputs": [
    {
     "name": "stdout",
     "output_type": "stream",
     "text": [
      "              precision    recall  f1-score   support\n",
      "\n",
      "           0       0.64      0.92      0.76       306\n",
      "           1       0.82      0.41      0.55       269\n",
      "\n",
      "    accuracy                           0.68       575\n",
      "   macro avg       0.73      0.67      0.65       575\n",
      "weighted avg       0.72      0.68      0.66       575\n",
      "\n",
      "Confusion Matrix\n",
      "[[282  24]\n",
      " [159 110]]\n",
      "\n",
      "Accuracy\n",
      "0.6817391304347826\n"
     ]
    },
    {
     "data": {
      "image/png": "[encoded data removed]",
      "text/plain": [
       "<Figure size 432x288 with 1 Axes>"
      ]
     },
     "metadata": {
      "needs_background": "light"
     },
     "output_type": "display_data"
    }
   ],
   "source": [
    "\n",
    "# Performance Metrics\n",
    "y_pred_rf = rf.predict_proba(X_train)[:, 1]\n",
    "y_pred = rf.predict(X_train)\n",
    "fpr_rf, tpr_rf, _ = roc_curve(y_train, y_pred_rf)\n",
    "print(classification_report(y_train, y_pred))\n",
    "\n",
    "print(\"Confusion Matrix\")\n",
    "print(confusion_matrix(y_train, y_pred))\n",
    "\n",
    "print('')\n",
    "print(\"Accuracy\")\n",
    "print(accuracy_score(y_train, y_pred))\n",
    "\n",
    "plt.figure(1)\n",
    "plt.plot([0, 1], [0, 1], 'k--')\n",
    "plt.plot(fpr_rf, tpr_rf, label='RF')\n",
    "plt.xlabel('False positive rate')\n",
    "plt.ylabel('True positive rate')\n",
    "plt.title('ROC curve')\n",
    "plt.legend(loc='best')\n",
    "plt.show()"
   ]
  },
  {
   "cell_type": "code",
   "execution_count": 26,
   "metadata": {},
   "outputs": [
    {
     "name": "stdout",
     "output_type": "stream",
     "text": [
      "              precision    recall  f1-score   support\n",
      "\n",
      "           0       0.57      0.80      0.66        81\n",
      "           1       0.45      0.21      0.28        63\n",
      "\n",
      "    accuracy                           0.54       144\n",
      "   macro avg       0.51      0.50      0.47       144\n",
      "weighted avg       0.51      0.54      0.50       144\n",
      "\n",
      "Confusion Matrix\n",
      "[[65 16]\n",
      " [50 13]]\n",
      "\n",
      "Accuracy\n",
      "0.5416666666666666\n"
     ]
    },
    {
     "data": {
      "image/png": "[encoded data removed]",
      "text/plain": [
       "<Figure size 432x288 with 1 Axes>"
      ]
     },
     "metadata": {
      "needs_background": "light"
     },
     "output_type": "display_data"
    }
   ],
   "source": [
    "# Meta-label\n",
    "# Performance Metrics\n",
    "y_pred_rf = rf.predict_proba(X_validate)[:, 1]\n",
    "y_pred = rf.predict(X_validate)\n",
    "fpr_rf, tpr_rf, _ = roc_curve(y_validate, y_pred_rf)\n",
    "print(classification_report(y_validate, y_pred))\n",
    "\n",
    "print(\"Confusion Matrix\")\n",
    "print(confusion_matrix(y_validate, y_pred))\n",
    "\n",
    "print('')\n",
    "print(\"Accuracy\")\n",
    "print(accuracy_score(y_validate, y_pred))\n",
    "\n",
    "plt.figure(1)\n",
    "plt.plot([0, 1], [0, 1], 'k--')\n",
    "plt.plot(fpr_rf, tpr_rf, label='RF')\n",
    "plt.xlabel('False positive rate')\n",
    "plt.ylabel('True positive rate')\n",
    "plt.title('ROC curve')\n",
    "plt.legend(loc='best')\n",
    "plt.show()"
   ]
  },
  {
   "cell_type": "code",
   "execution_count": 27,
   "metadata": {},
   "outputs": [
    {
     "data": {
      "image/png": "[encoded data removed]",
      "text/plain": [
       "<Figure size 1080x360 with 1 Axes>"
      ]
     },
     "metadata": {
      "needs_background": "light"
     },
     "output_type": "display_data"
    }
   ],
   "source": [
    "# Feature Importance\n",
    "title = 'Feature Importance:'\n",
    "figsize = (15, 5)\n",
    "\n",
    "feat_imp = pd.DataFrame({'Importance':rf.feature_importances_})    \n",
    "feat_imp['feature'] = X.columns\n",
    "feat_imp.sort_values(by='Importance', ascending=False, inplace=True)\n",
    "feat_imp = feat_imp\n",
    "\n",
    "feat_imp.sort_values(by='Importance', inplace=True)\n",
    "feat_imp = feat_imp.set_index('feature', drop=True)\n",
    "feat_imp.plot.barh(title=title, figsize=figsize)\n",
    "plt.xlabel('Feature Importance Score')\n",
    "plt.show()"
   ]
  }
 ],
 "metadata": {
  "kernelspec": {
   "display_name": "Python 3",
   "language": "python",
   "name": "python3"
  },
  "language_info": {
   "codemirror_mode": {
    "name": "ipython",
    "version": 3
   },
   "file_extension": ".py",
   "mimetype": "text/x-python",
   "name": "python",
   "nbconvert_exporter": "python",
   "pygments_lexer": "ipython3",
   "version": "3.7.4"
  }
 },
 "nbformat": 4,
 "nbformat_minor": 2
}
